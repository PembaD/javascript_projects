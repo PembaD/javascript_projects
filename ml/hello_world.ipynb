{
 "cells": [
  {
   "cell_type": "code",
   "execution_count": 146,
   "id": "798d4920-daf3-41e8-9219-7a70fe093b12",
   "metadata": {
    "tags": []
   },
   "outputs": [
    {
     "data": {
      "text/plain": [
       "array(['HipHop'], dtype=object)"
      ]
     },
     "execution_count": 146,
     "metadata": {},
     "output_type": "execute_result"
    }
   ],
   "source": [
    "import pandas as pd\n",
    "from sklearn.tree import DecisionTreeClassifier\n",
    "from sklearn.model_selection import train_test_split\n",
    "from sklearn.metrics import accuracy_score\n",
    "import joblib #has methods for saving and loading models\n",
    "from sklearn import tree\n",
    "\n",
    "df = pd.read_csv(\"music.csv\")\n",
    "X = df.drop(columns=[\"genre\"]) #input\n",
    "y = df[\"genre\"] #output\n",
    "\n",
    "#the model\n",
    "model = DecisionTreeClassifier()\n",
    "model.fit(X, y)\n",
    "model.predict([[21,1]])"
   ]
  },
  {
   "cell_type": "code",
   "execution_count": 136,
   "id": "434c94c0-4d29-4d95-843b-5b85f69150e6",
   "metadata": {},
   "outputs": [
    {
     "data": {
      "text/plain": [
       "0.5"
      ]
     },
     "execution_count": 136,
     "metadata": {},
     "output_type": "execute_result"
    }
   ],
   "source": [
    "#measure accuracy of the models\n",
    "#split data into Training and Testing\n",
    "model2 = DecisionTreeClassifier()\n",
    "X_train, X_test, y_train, y_test = train_test_split(X,y,test_size=0.30) # 20% of data to testing\n",
    "model2.fit(X_train,y_train)\n",
    "predict = model2.predict(X_test)\n",
    "accuracy = accuracy_score(y_test,predict)\n",
    "accuracy"
   ]
  },
  {
   "cell_type": "code",
   "execution_count": 151,
   "id": "6cecfa4d-0b20-484e-9fff-6d72a9eb65cc",
   "metadata": {},
   "outputs": [
    {
     "data": {
      "text/plain": [
       "['music_recommender.joblib']"
      ]
     },
     "execution_count": 151,
     "metadata": {},
     "output_type": "execute_result"
    }
   ],
   "source": [
    "#model persistance\n",
    "model3 = DecisionTreeClassifier()\n",
    "X_train, X_test, y_train, y_test = train_test_split(X,y,test_size=0.20) # 20% of data to testing\n",
    "model3.fit(X_train,y_train)\n",
    "# tree.export_graphviz(model3,outfile=\"music_recommender.dot\",feature_names=[\"age\",\"gender\"],class_names=sorted(y.unique),label=\"all\",\n",
    "#                     filled=True)\n",
    "joblib.dump(model,\"music_recommender.joblib\")\n"
   ]
  },
  {
   "cell_type": "code",
   "execution_count": 145,
   "id": "a306785e-99b1-430c-8a20-d9bd058e68d4",
   "metadata": {},
   "outputs": [
    {
     "data": {
      "text/plain": [
       "array(['HipHop'], dtype=object)"
      ]
     },
     "execution_count": 145,
     "metadata": {},
     "output_type": "execute_result"
    }
   ],
   "source": [
    "m = joblib.load(\"music_recommender.joblib\")\n",
    "p = m.predict([[21,1]])\n",
    "p"
   ]
  },
  {
   "cell_type": "code",
   "execution_count": null,
   "id": "e7d53562-7271-47ec-993c-879764288911",
   "metadata": {},
   "outputs": [],
   "source": []
  }
 ],
 "metadata": {
  "kernelspec": {
   "display_name": "Python 3",
   "language": "python",
   "name": "python3"
  },
  "language_info": {
   "codemirror_mode": {
    "name": "ipython",
    "version": 3
   },
   "file_extension": ".py",
   "mimetype": "text/x-python",
   "name": "python",
   "nbconvert_exporter": "python",
   "pygments_lexer": "ipython3",
   "version": "3.8.5"
  }
 },
 "nbformat": 4,
 "nbformat_minor": 5
}
